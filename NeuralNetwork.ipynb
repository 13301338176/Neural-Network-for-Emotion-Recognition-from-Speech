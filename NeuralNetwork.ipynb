{
 "cells": [
  {
   "cell_type": "markdown",
   "metadata": {},
   "source": [
    "# Neural Network for Emotion Recognition from Speech\n",
    "Recognizes emotion by classifying binary  Valence/arousal values for given utterances.\n",
    "Provide input data by extracting 13MFCC features (via OpenSMILE) and export to binary files.\n",
    "Network consists of one convolution layer"
   ]
  },
  {
   "cell_type": "code",
   "execution_count": null,
   "metadata": {
    "collapsed": true
   },
   "outputs": [],
   "source": [
    "import numpy as np\n",
    "import tensorflow as tf\n",
    "import random\n",
    "import math"
   ]
  },
  {
   "cell_type": "code",
   "execution_count": null,
   "metadata": {
    "collapsed": true
   },
   "outputs": [],
   "source": [
    "# load input data\n",
    "filepath = 'Input'\n",
    "\n",
    "# load IEMOCAP input and labels to numpy arrays\n",
    "samples_train_ENG = np.load(path + '/IEMOCAP/IEMOC_feature_train.npy')\n",
    "labels_train_ENG = np.load(path + '/IEMOCAP/IEMOC_labels_train.npy')\n",
    "\n",
    "# load RECOLA input and labels to numpy arrays\n",
    "samples_train_FR = np.load(path + '/RECOLA/RECOL_feature_train.npy')\n",
    "labels_train_FR = np.load(path + '/RECOLA/RECOL_labels_train.npy')"
   ]
  },
  {
   "cell_type": "code",
   "execution_count": null,
   "metadata": {
    "collapsed": true
   },
   "outputs": [],
   "source": [
    "# hyperparameters\n",
    "ITERATIONS = 50000\n",
    "BATCH_SIZE = 50\n",
    "LEARN_RATE = 0.01\n",
    "DISPLAY_STEP = 10"
   ]
  },
  {
   "cell_type": "code",
   "execution_count": null,
   "metadata": {
    "collapsed": true
   },
   "outputs": [],
   "source": [
    "# network parameters\n",
    "n_frames_eng = int(len(samples_train_ENG)/len(labels_train_ENG))\n",
    "n_frames_fr = int(len(samples_train_FR)/len(labels_train_FR))\n",
    "n_features = len(samples_train_ENG[0])\n",
    "n_samples_ENG = len(labels_train_ENG)\n",
    "n_samples_FR = len(labels_train_FR)\n",
    "n_convInput = n_frames * n_features\n",
    "n_classes = 4\n",
    "dropout = 0.5\n",
    "\n",
    "# 2 gateways for our data: one for sound samples & one for labels\n",
    "x = tf.placeholder(tf.float32, shape=(None, n_features*n_frames), name=\"Input\")\n",
    "y = tf.placeholder(tf.float32, shape=(None, n_classes), name=\"Prediction\")\n",
    "\n",
    "# gateway for dropout\n",
    "keep_prob =  tf.placeholder(tf.float32, name=\"Dropout\")"
   ]
  }
 ],
 "metadata": {
  "kernelspec": {
   "display_name": "Python 3",
   "language": "python",
   "name": "python3"
  },
  "language_info": {
   "codemirror_mode": {
    "name": "ipython",
    "version": 3
   },
   "file_extension": ".py",
   "mimetype": "text/x-python",
   "name": "python",
   "nbconvert_exporter": "python",
   "pygments_lexer": "ipython3",
   "version": "3.6.3"
  }
 },
 "nbformat": 4,
 "nbformat_minor": 2
}
