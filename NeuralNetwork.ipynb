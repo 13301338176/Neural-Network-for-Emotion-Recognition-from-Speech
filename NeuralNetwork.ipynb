{
 "cells": [
  {
   "cell_type": "markdown",
   "metadata": {},
   "source": [
    "# Neural Network for Emotion Recognition from Speech\n",
    "Recognizes emotion by classifying binary  Valence/arousal values for given utterances.\n",
    "Provide input data by extracting 13MFCC features (via OpenSMILE) and export to binary files.\n",
    "Network consists of one convolution layer"
   ]
  },
  {
   "cell_type": "code",
   "execution_count": null,
   "metadata": {
    "collapsed": true
   },
   "outputs": [],
   "source": [
    "import numpy as np\n",
    "import tensorflow as tf\n",
    "import random\n",
    "import math"
   ]
  },
  {
   "cell_type": "code",
   "execution_count": null,
   "metadata": {
    "collapsed": true
   },
   "outputs": [],
   "source": [
    "# load input data\n",
    "filepath = 'Input'\n",
    "\n",
    "# load IEMOCAP input and labels to numpy arrays\n",
    "samples_train_ENG = np.load(path + '/IEMOCAP/IEMOC_feature_train.npy')\n",
    "labels_train_ENG = np.load(path + '/IEMOCAP/IEMOC_labels_train.npy')\n",
    "\n",
    "# load RECOLA input and labels to numpy arrays\n",
    "samples_train_FR = np.load(path + '/RECOLA/RECOL_feature_train.npy')\n",
    "labels_train_FR = np.load(path + '/RECOLA/RECOL_labels_train.npy')"
   ]
  },
  {
   "cell_type": "code",
   "execution_count": null,
   "metadata": {
    "collapsed": true
   },
   "outputs": [],
   "source": [
    "# hyperparameters\n",
    "ITERATIONS = 50000\n",
    "BATCH_SIZE = 50\n",
    "LEARN_RATE = 0.01\n",
    "DISPLAY_STEP = 10"
   ]
  },
  {
   "cell_type": "code",
   "execution_count": null,
   "metadata": {
    "collapsed": true
   },
   "outputs": [],
   "source": [
    "# network parameters\n",
    "n_frames_eng = int(len(samples_train_ENG)/len(labels_train_ENG))\n",
    "n_frames_fr = int(len(samples_train_FR)/len(labels_train_FR))\n",
    "n_features = len(samples_train_ENG[0])\n",
    "n_samples_ENG = len(labels_train_ENG)\n",
    "n_samples_FR = len(labels_train_FR)\n",
    "n_convInput = n_frames * n_features\n",
    "n_classes = 4\n",
    "dropout = 0.5\n",
    "\n",
    "# 2 gateways for our data: one for sound samples & one for labels\n",
    "x = tf.placeholder(tf.float32, shape=(None, n_features*n_frames), name=\"Input\")\n",
    "y = tf.placeholder(tf.float32, shape=(None, n_classes), name=\"Prediction\")\n",
    "\n",
    "# gateway for dropout\n",
    "keep_prob =  tf.placeholder(tf.float32, name=\"Dropout\")"
   ]
  },
  {
   "cell_type": "code",
   "execution_count": null,
   "metadata": {
    "collapsed": true
   },
   "outputs": [],
   "source": [
    "# function to generate each batch\n",
    "# TODO"
   ]
  },
  {
   "cell_type": "code",
   "execution_count": null,
   "metadata": {
    "collapsed": true
   },
   "outputs": [],
   "source": [
    "# define convolution layer\n",
    "def conv2d(x, W, b, name=\"Convolution\"): \n",
    "    with tf.name_scope(name):\n",
    "        conv = tf.nn.conv2d(x, W, strides=[1, 1, 1, 1], padding = 'VALID')\n",
    "        act = tf.nn.relu(conv + b)\n",
    "        return tf.nn.max_pool(act, ksize = [1, 30, 1, 1], strides = [1, 3, 1, 1], padding = 'SAME')\n",
    "\n",
    "# create model\n",
    "def conv_net(x, weights, biases):\n",
    "    # reshape input data to [ #samples, #frames, # features, 1]\n",
    "    x = tf.reshape(x, shape = [-1, n_frames, n_features, 1])\n",
    "    # convolution layer with maxpooling\n",
    "    act1 = conv2d(x, weights['wc1'], biases['bc1'])\n",
    "    \n",
    "    # reshape to one fully connected layer with inputs as a list\n",
    "    act1 = tf.reshape(act1, [-1, weights['out'].get_shape().as_list()[0]])\n",
    "    # apply dropout\n",
    "    act1 = tf.nn.dropout(act1, keep_prob)\n",
    "    \n",
    "    # output, class prediciton\n",
    "    out = tf.add(tf.matmul(act1, weights['out']), biases['out'])\n",
    "    return out #return the classification"
   ]
  },
  {
   "cell_type": "code",
   "execution_count": null,
   "metadata": {
    "collapsed": true
   },
   "outputs": [],
   "source": [
    "# create weights\n",
    "weights = {\n",
    "    'wc1': tf.Variable(tf.random_normal([10,n_features,1,50])),\n",
    "    'out': tf.Variable(tf.random_normal([int(math.ceil((n_frames-9)/3) * 50), n_classes]))\n",
    "}\n",
    "\n",
    "# create biases\n",
    "biases = {\n",
    "    'bc1': tf.Variable(tf.random_normal([50])),\n",
    "    'out': tf.Variable(tf.random_normal([n_classes]))\n",
    "}"
   ]
  },
  {
   "cell_type": "code",
   "execution_count": null,
   "metadata": {
    "collapsed": true
   },
   "outputs": [],
   "source": [
    "# construct model\n",
    "pred = conv_net(x, weights, biases)\n",
    "\n",
    "# define optimizer and loss\n",
    "cost = tf.reduce_mean(tf.nn.softmax_cross_entropy_with_logits_v2(logits = pred, labels = y))\n",
    "optimizer = tf.train.AdamOptimizer(learning_rate = LEARNING_RATE).minimize(cost)\n",
    "\n",
    "# evaluate model with tf.equal(predictedValue, testData)\n",
    "correct_pred = tf.equal(tf.argmax(pred, 1), tf.argmax(y, 1))\n",
    "accuracy = tf.reduce_mean(tf.cast(correct_pred, tf.float32))"
   ]
  }
 ],
 "metadata": {
  "kernelspec": {
   "display_name": "Python 3",
   "language": "python",
   "name": "python3"
  },
  "language_info": {
   "codemirror_mode": {
    "name": "ipython",
    "version": 3
   },
   "file_extension": ".py",
   "mimetype": "text/x-python",
   "name": "python",
   "nbconvert_exporter": "python",
   "pygments_lexer": "ipython3",
   "version": "3.6.3"
  }
 },
 "nbformat": 4,
 "nbformat_minor": 2
}
