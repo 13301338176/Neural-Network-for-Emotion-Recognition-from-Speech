{
 "cells": [
  {
   "cell_type": "markdown",
   "metadata": {},
   "source": [
    "# Neural Network for Emotion Recognition from Speech\n",
    "Recognizes emotion by classifying binary  Valence/arousal values for given utterances.\n",
    "Provide input data by extracting 13MFCC features (via OpenSMILE) and export to binary files.\n",
    "Network consists of one convolution layer"
   ]
  },
  {
   "cell_type": "code",
   "execution_count": null,
   "metadata": {
    "collapsed": true
   },
   "outputs": [],
   "source": [
    "import numpy as np\n",
    "import tensorflow as tf\n",
    "import random\n",
    "import math"
   ]
  },
  {
   "cell_type": "code",
   "execution_count": null,
   "metadata": {
    "collapsed": true
   },
   "outputs": [],
   "source": [
    "# load input data\n",
    "filepath = 'Input'\n",
    "\n",
    "# load IEMOCAP input and labels to numpy arrays\n",
    "samples_train_ENG = np.load(path + '/IEMOCAP/IEMOC_feature_train.npy')\n",
    "labels_train_ENG = np.load(path + '/IEMOCAP/IEMOC_labels_train.npy')\n",
    "\n",
    "# load RECOLA input and labels to numpy arrays\n",
    "samples_train_FR = np.load(path + '/RECOLA/RECOL_feature_train.npy')\n",
    "labels_train_FR = np.load(path + '/RECOLA/RECOL_labels_train.npy')"
   ]
  }
 ],
 "metadata": {
  "kernelspec": {
   "display_name": "Python 3",
   "language": "python",
   "name": "python3"
  },
  "language_info": {
   "codemirror_mode": {
    "name": "ipython",
    "version": 3
   },
   "file_extension": ".py",
   "mimetype": "text/x-python",
   "name": "python",
   "nbconvert_exporter": "python",
   "pygments_lexer": "ipython3",
   "version": "3.6.3"
  }
 },
 "nbformat": 4,
 "nbformat_minor": 2
}
